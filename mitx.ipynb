{
 "cells": [
  {
   "cell_type": "markdown",
   "metadata": {},
   "source": [
    "**Newton-Raphson**"
   ]
  },
  {
   "cell_type": "code",
   "execution_count": 7,
   "metadata": {
    "pycharm": {
     "name": "#%%\n"
    }
   },
   "outputs": [
    {
     "name": "stdout",
     "output_type": "stream",
     "text": [
      "numGuesses = 5\n",
      "Square root of 54.0 is about 7.348469483546109\n"
     ]
    }
   ],
   "source": [
    "epsilon = 0.01\n",
    "y = 54.0\n",
    "guess = y / 2.0\n",
    "numGuesses = 0\n",
    "\n",
    "while abs(guess*guess - y) >= epsilon:\n",
    "    numGuesses += 1\n",
    "    guess = guess - (((guess**2) - y)/(2*guess))\n",
    "print('numGuesses = ' + str(numGuesses))\n",
    "print('Square root of ' + str(y) + ' is about ' + str(guess))\n"
   ]
  },
  {
   "cell_type": "markdown",
   "metadata": {
    "pycharm": {
     "name": "#%% md\n"
    }
   },
   "source": [
    "**Decimal to binary**"
   ]
  },
  {
   "cell_type": "code",
   "execution_count": null,
   "metadata": {
    "pycharm": {
     "is_executing": true,
     "name": "#%%\n"
    }
   },
   "outputs": [],
   "source": [
    "user_input_decimal = input('Enter a decimal numbers: ')\n",
    "user_input_log = input('Log remainders? (Y/n): ')\n",
    "x = float(user_input_decimal)\n",
    "\n",
    "p = 0\n",
    "while ((2**p)*x) % 1 != 0:\n",
    "    if user_input_log == 'y':\n",
    "        print('Remainder = ' + str((2**p)*x - int((2**p)*x)))\n",
    "    p += 1\n",
    "\n",
    "num = int(x*(2**p))\n",
    "\n",
    "\n",
    "result = ''\n",
    "if num == 0:\n",
    "    result = '0'\n",
    "while num > 0:\n",
    "    result = str(num % 2) + result\n",
    "    num = num//2\n",
    "\n",
    "for i in range(p - len(result)):\n",
    "    result = '0' + result\n",
    "\n",
    "result = result[0:-p] + '.' + result[-p:]\n",
    "print('The binary representation of the decimal ' + str(x) + ' is ' + str(result))"
   ]
  },
  {
   "cell_type": "markdown",
   "metadata": {
    "pycharm": {
     "name": "#%% md\n"
    }
   },
   "source": [
    "**Fibonacci**"
   ]
  },
  {
   "cell_type": "code",
   "execution_count": null,
   "metadata": {
    "pycharm": {
     "name": "#%%\n"
    }
   },
   "outputs": [],
   "source": [
    "user_prompt = input('Which Fibonacci number to compute: ')\n",
    "user_prompt_int = int(user_prompt)\n",
    "def fib(nth_fib):\n",
    "    \"\"\"\n",
    "    assume x an int >=0\n",
    "    returns Fibonacci of x\n",
    "    \"\"\"\n",
    "    if nth_fib == 0 or nth_fib == 1:\n",
    "        return 1\n",
    "    else:\n",
    "        return fib(nth_fib - 1) + fib(nth_fib - 2)\n",
    "if user_prompt_int < 33:\n",
    "    print(fib(user_prompt_int))\n",
    "else:\n",
    "    print('To costly to compute')"
   ]
  },
  {
   "cell_type": "markdown",
   "metadata": {
    "pycharm": {
     "name": "#%% md\n"
    }
   },
   "source": [
    "**Tower of Hanoi**\n",
    "Classical example of recursion."
   ]
  },
  {
   "cell_type": "code",
   "execution_count": 1,
   "metadata": {
    "pycharm": {
     "name": "#%%\n"
    }
   },
   "outputs": [
    {
     "name": "stdout",
     "output_type": "stream",
     "text": [
      "move from P1 to P3\n",
      "move from P1 to P2\n",
      "move from P3 to P2\n",
      "move from P1 to P3\n",
      "move from P2 to P1\n",
      "move from P2 to P3\n",
      "move from P1 to P3\n",
      "move from P1 to P2\n",
      "move from P3 to P2\n",
      "move from P3 to P1\n",
      "move from P2 to P1\n",
      "move from P3 to P2\n",
      "move from P1 to P3\n",
      "move from P1 to P2\n",
      "move from P3 to P2\n",
      "None\n"
     ]
    }
   ],
   "source": [
    "def printMove(fr, to):\n",
    "    print('move from ' + str(fr) + ' to ' + str(to))\n",
    "\n",
    "def Towers(n, fr, to, spare):\n",
    "    if n == 1:\n",
    "        printMove(fr, to)\n",
    "    else:\n",
    "        Towers(n-1, fr, spare, to)\n",
    "        Towers(1, fr, to, spare)\n",
    "        Towers(n-1, spare, to, fr)\n",
    "\n",
    "\n",
    "print(Towers(4, 'P1', 'P2', 'P3'))"
   ]
  },
  {
   "cell_type": "markdown",
   "metadata": {
    "pycharm": {
     "name": "#%% md\n"
    }
   },
   "source": [
    "**Raising int to nth power recursive way**"
   ]
  },
  {
   "cell_type": "code",
   "execution_count": 2,
   "metadata": {
    "pycharm": {
     "name": "#%%\n"
    }
   },
   "outputs": [
    {
     "name": "stdout",
     "output_type": "stream",
     "text": [
      "8\n"
     ]
    }
   ],
   "source": [
    "def recurPower(base, exp):\n",
    "    \"\"\"\n",
    "    base: int or float.\n",
    "    exp: int >= 0\n",
    "\n",
    "    returns: int or float, base^exp\n",
    "    \"\"\"\n",
    "    if exp == 0:\n",
    "        return 1\n",
    "    elif exp == 1:\n",
    "        return base\n",
    "    else:\n",
    "        return base*recurPower(base, exp-1)\n",
    "\n",
    "\n",
    "print(recurPower(2, 3))"
   ]
  },
  {
   "cell_type": "markdown",
   "metadata": {
    "pycharm": {
     "name": "#%% md\n"
    }
   },
   "source": [
    "**Check if the string palindrome**"
   ]
  },
  {
   "cell_type": "code",
   "execution_count": 5,
   "metadata": {
    "pycharm": {
     "name": "#%%\n"
    }
   },
   "outputs": [
    {
     "name": "stdout",
     "output_type": "stream",
     "text": [
      "True\n"
     ]
    }
   ],
   "source": [
    "def isPalindrome(s):\n",
    "    def toChars(s):\n",
    "        s = s.lower()\n",
    "        ans = \"\"\n",
    "        for c in s:\n",
    "            if c in s:\n",
    "                ans += c\n",
    "        return ans\n",
    "\n",
    "\n",
    "    def isPal(s):\n",
    "        if len(s)<= 1:\n",
    "            return True\n",
    "        else:\n",
    "            return s[0] == s[-1] and isPal(s[1:-1])\n",
    "    return isPal(toChars(s))\n",
    "\n",
    "\n",
    "print(isPalindrome('ablewasiereisawelba'))"
   ]
  },
  {
   "cell_type": "markdown",
   "metadata": {
    "pycharm": {
     "name": "#%% md\n"
    }
   },
   "source": [
    "**GCD iter**"
   ]
  },
  {
   "cell_type": "code",
   "execution_count": 10,
   "metadata": {
    "pycharm": {
     "name": "#%%\n"
    }
   },
   "outputs": [
    {
     "name": "stdout",
     "output_type": "stream",
     "text": [
      "5\n"
     ]
    }
   ],
   "source": [
    "def gcdIter(a, b):\n",
    "    \"\"\"\n",
    "    a, b: positive integers\n",
    "\n",
    "    returns: a positive integer, the greatest common divisor of a & b.\n",
    "    \"\"\"\n",
    "    # Your code here\n",
    "    if a == b:\n",
    "        return a\n",
    "    elif a > b:\n",
    "        temp = b\n",
    "        for i in range(a):\n",
    "            if a % b == 0 and temp % b == 0:\n",
    "                return b\n",
    "            else:\n",
    "                b -= 1\n",
    "    elif a < b:\n",
    "        temp = a\n",
    "        for i in range(b):\n",
    "            if b % a == 0 and temp % a == 0:\n",
    "                return a\n",
    "            else:\n",
    "                a -= 1\n",
    "\n",
    "\n",
    "print(gcdIter(35, 60))"
   ]
  },
  {
   "cell_type": "markdown",
   "metadata": {
    "pycharm": {
     "name": "#%% md\n"
    }
   },
   "source": [
    "**GCD RECURSIVE**"
   ]
  },
  {
   "cell_type": "code",
   "execution_count": null,
   "metadata": {
    "pycharm": {
     "name": "#%%\n"
    }
   },
   "outputs": [],
   "source": [
    "def gcdRecur(a, b):\n",
    "    \"\"\"\n",
    "    a, b: positive integers\n",
    "\n",
    "    returns: a positive integer, the greatest common divisor of a & b.\n",
    "    \"\"\"\n",
    "    # Your code here\n",
    "    if b == 0:\n",
    "        return a\n",
    "    else:\n",
    "        return gcdRecur(b, a % b)\n",
    "\n",
    "\n",
    "print(gcdRecur(374, 425))"
   ]
  },
  {
   "cell_type": "markdown",
   "metadata": {
    "pycharm": {
     "name": "#%% md\n"
    }
   },
   "source": [
    "**Monte Carlo**"
   ]
  },
  {
   "cell_type": "code",
   "execution_count": 44,
   "metadata": {
    "pycharm": {
     "name": "#%%\n"
    }
   },
   "outputs": [
    {
     "name": "stdout",
     "output_type": "stream",
     "text": [
      "0.0965\n"
     ]
    }
   ],
   "source": [
    "import random\n",
    "\n",
    "def noReplacementSimulation(numTrials):\n",
    "    \"\"\"\n",
    "    Runs numTrials trials of a Monte Carlo simulation\n",
    "    of drawing 3 balls out of a bucket containing\n",
    "    3 red and 3 green balls. Balls are not replaced once\n",
    "    drawn. Returns a decimal - the fraction of times 3\n",
    "    balls of the same color were drawn.\n",
    "    \"\"\"\n",
    "    streak_counter = 0\n",
    "    for i in range(numTrials):\n",
    "        draw = draw_three_balls()\n",
    "        # print(draw)\n",
    "        if all(balls == draw[0] for balls in draw):\n",
    "            streak_counter+=1\n",
    "\n",
    "    return streak_counter/numTrials\n",
    "\n",
    "\n",
    "def draw_three_balls():\n",
    "    bucket = ['green', 'green', 'green', 'red', 'red', 'red']\n",
    "    draw = []\n",
    "    for i in range(3):\n",
    "        draw.append(bucket.pop(random.randint(0, len(bucket)-1)))\n",
    "\n",
    "    return draw\n",
    "\n",
    "print(noReplacementSimulation(10000))"
   ]
  },
  {
   "cell_type": "markdown",
   "metadata": {
    "pycharm": {
     "name": "#%% md\n"
    }
   },
   "source": [
    "**CLT INTEGRAL SIN X**"
   ]
  },
  {
   "cell_type": "code",
   "execution_count": 2,
   "metadata": {
    "pycharm": {
     "name": "#%%\n"
    }
   },
   "outputs": [
    {
     "data": {
      "text/plain": "<Figure size 432x288 with 1 Axes>",
      "image/png": "[encoded data removed]"
     },
     "metadata": {
      "needs_background": "light"
     },
     "output_type": "display_data"
    },
    {
     "name": "stdout",
     "output_type": "stream",
     "text": [
      "[0.2 0.2 0.2 0.2 0.2]\n"
     ]
    },
    {
     "data": {
      "text/plain": "<Figure size 432x288 with 1 Axes>",
      "image/png": "[encoded data removed]"
     },
     "metadata": {
      "needs_background": "light"
     },
     "output_type": "display_data"
    },
    {
     "name": "stdout",
     "output_type": "stream",
     "text": [
      "Mean of rolling 1 die = 2.4991693937911177, Std = 4.336826469600696\n",
      "Mean of rolling 50 die = 2.4996528930913913, Std = 0.0017036115110544488\n"
     ]
    },
    {
     "data": {
      "text/plain": "<Figure size 432x288 with 1 Axes>",
      "image/png": "[encoded data removed]"
     },
     "metadata": {
      "needs_background": "light"
     },
     "output_type": "display_data"
    }
   ],
   "source": [
    "import random\n",
    "import pylab\n",
    "# from lets_plot import *\n",
    "# LetsPlot.setup_html()\n",
    "\n",
    "\n",
    "def get_mean_and_std(X):\n",
    "    mean = sum(X)/float(len(X))\n",
    "    tot = 0.0\n",
    "    for x in X:\n",
    "        tot += (x - mean)**2\n",
    "    std = (tot/len(X))**2\n",
    "    return mean, std\n",
    "\n",
    "\n",
    "L = [1, 1, 1, 1, 2]\n",
    "pylab.hist(L)\n",
    "pylab.show()\n",
    "factor = pylab.array(len(L)*[1])/len(L)\n",
    "print(factor)\n",
    "pylab.figure()\n",
    "pylab.hist(L, weights=factor)\n",
    "pylab.show()\n",
    "\n",
    "\n",
    "def plot_means(num_dice, num_rolls, num_bins, legend, color, style):\n",
    "    means = []\n",
    "    for i in range(num_rolls // num_dice):\n",
    "        vals = 0\n",
    "        for j in range(num_dice):\n",
    "            vals += 5 * random.random()\n",
    "        means.append(vals / float(num_dice))\n",
    "    pylab.hist(means, num_bins, color=color, label=legend,\n",
    "               weights=pylab.array(len(means) * [1]) / len(means),\n",
    "               hatch=style)\n",
    "    return get_mean_and_std(means)\n",
    "\n",
    "\n",
    "mean, std = plot_means(1, 1000000, 19, '1 die', 'b', '*')\n",
    "print('Mean of rolling 1 die =', str(mean) + ',', 'Std =', std)\n",
    "mean, std = plot_means(50, 1000000, 19, '50 dice', 'r', '//')\n",
    "print('Mean of rolling 50 die =', str(mean) + ',', 'Std =', std)\n",
    "pylab.title('Rolling Continuous Dice')\n",
    "pylab.xlabel('Value')\n",
    "pylab.ylabel('Profitability')\n",
    "pylab.legend()\n",
    "pylab.show()"
   ]
  },
  {
   "cell_type": "code",
   "execution_count": 1,
   "metadata": {},
   "outputs": [
    {
     "name": "stdout",
     "output_type": "stream",
     "text": [
      "Note: you may need to restart the kernel to use updated packages.\n"
     ]
    },
    {
     "name": "stderr",
     "output_type": "stream",
     "text": [
      "ERROR: Could not find a version that satisfies the requirement pylab (from versions: none)\n",
      "ERROR: No matching distribution found for pylab\n"
     ]
    }
   ],
   "source": [
    "pip install pylab"
   ]
  }
 ],
 "metadata": {
  "kernelspec": {
   "display_name": "Python 3 (ipykernel)",
   "language": "python",
   "name": "python3"
  },
  "language_info": {
   "codemirror_mode": {
    "name": "ipython",
    "version": 3
   },
   "file_extension": ".py",
   "mimetype": "text/x-python",
   "name": "python",
   "nbconvert_exporter": "python",
   "pygments_lexer": "ipython3",
   "version": "3.10.1"
  }
 },
 "nbformat": 4,
 "nbformat_minor": 1
}