{
 "cells": [
  {
   "cell_type": "markdown",
   "metadata": {
    "pycharm": {
     "name": "#%% md\n"
    }
   },
   "source": [
    "**Decimal to binary**"
   ]
  },
  {
   "cell_type": "markdown",
   "source": [
    "**Decimal to binary**"
   ],
   "metadata": {
    "collapsed": false,
    "pycharm": {
     "name": "#%% md\n"
    }
   }
  },
  {
   "cell_type": "code",
   "execution_count": 58,
   "metadata": {
    "pycharm": {
     "name": "#%%\n"
    },
    "scrolled": true
   },
   "outputs": [
    {
     "name": "stdout",
     "output_type": "stream",
     "text": [
      "The binary representation of the decimal 0.2 is .001100110011001100110011001100110011001100110011001101\n"
     ]
    }
   ],
   "source": [
    "user_input_decimal = input('Enter a decimal numbers: ')\n",
    "user_input_log = input('Log remainders? (Y/n): ')\n",
    "x = float(user_input_decimal)\n",
    "\n",
    "p = 0\n",
    "while ((2**p)*x) % 1 != 0:\n",
    "    if user_input_log == 'y':\n",
    "        print('Remainder = ' + str((2**p)*x - int((2**p)*x)))\n",
    "    p += 1\n",
    "\n",
    "num = int(x*(2**p))\n",
    "\n",
    "result = ''\n",
    "if num == 0:\n",
    "    result = '0'\n",
    "while num > 0:\n",
    "    result = str(num % 2) + result\n",
    "    num = num//2\n",
    "\n",
    "for i in range(p - len(result)):\n",
    "    result = '0' + result\n",
    "\n",
    "result = result[0:-p] + '.' + result[-p:]\n",
    "print('The binary representation of the decimal ' + str(x) + ' is ' + str(result))"
   ]
  },
  {
   "cell_type": "markdown",
   "metadata": {
    "pycharm": {
     "name": "#%% md\n"
    }
   },
   "source": [
    "**Fibonaci**"
   ]
  },
  {
   "cell_type": "code",
   "execution_count": 36,
   "metadata": {
    "pycharm": {
     "name": "#%%\n"
    }
   },
   "outputs": [
    {
     "name": "stdout",
     "output_type": "stream",
     "text": [
      "3524578\n"
     ]
    }
   ],
   "source": [
    "user_prompt = input('Which Fibonacci number to compute: ')\n",
    "user_prompt_int = int(user_prompt)\n",
    "def fib(nth_fib):\n",
    "    \"\"\"\n",
    "    assume x an int >=0\n",
    "    returns Fibonacci of x\n",
    "    \"\"\"\n",
    "    if nth_fib == 0 or nth_fib == 1:\n",
    "        return 1\n",
    "    else:\n",
    "        return fib(nth_fib - 1) + fib(nth_fib - 2)\n",
    "if user_prompt_int < 33:\n",
    "    print(fib(user_prompt_int))\n",
    "else:\n",
    "    print('To costly to compute')"
   ]
  },
  {
   "cell_type": "code",
   "execution_count": 32,
   "outputs": [],
   "source": [],
   "metadata": {
    "collapsed": false,
    "pycharm": {
     "name": "#%%\n"
    }
   }
  },
  {
   "cell_type": "code",
   "execution_count": null,
   "outputs": [],
   "source": [],
   "metadata": {
    "collapsed": false,
    "pycharm": {
     "name": "#%%\n"
    }
   }
  }
 ],
 "metadata": {
  "kernelspec": {
   "display_name": "Python 3 (ipykernel)",
   "language": "python",
   "name": "python3"
  },
  "language_info": {
   "codemirror_mode": {
    "name": "ipython",
    "version": 3
   },
   "file_extension": ".py",
   "mimetype": "text/x-python",
   "name": "python",
   "nbconvert_exporter": "python",
   "pygments_lexer": "ipython3",
   "version": "3.10.1"
  }
 },
 "nbformat": 4,
 "nbformat_minor": 1
}